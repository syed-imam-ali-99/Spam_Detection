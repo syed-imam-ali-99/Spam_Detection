{
  "nbformat": 4,
  "nbformat_minor": 0,
  "metadata": {
    "colab": {
      "name": "PySpamDetection.ipynb",
      "provenance": [],
      "authorship_tag": "ABX9TyNvSG1nxQvItulwx0APoiQ5",
      "include_colab_link": true
    },
    "kernelspec": {
      "name": "python3",
      "display_name": "Python 3"
    },
    "accelerator": "TPU"
  },
  "cells": [
    {
      "cell_type": "markdown",
      "metadata": {
        "id": "view-in-github",
        "colab_type": "text"
      },
      "source": [
        "<a href=\"https://colab.research.google.com/github/smaranjitghose/PySpamFiltering/blob/master/PySpamDetection.ipynb\" target=\"_parent\"><img src=\"https://colab.research.google.com/assets/colab-badge.svg\" alt=\"Open In Colab\"/></a>"
      ]
    },
    {
      "cell_type": "markdown",
      "metadata": {
        "id": "uG4XgvNLJiqZ",
        "colab_type": "text"
      },
      "source": [
        "## **Spam Detection**"
      ]
    },
    {
      "cell_type": "code",
      "metadata": {
        "id": "gdOJjN8vJxS6",
        "colab_type": "code",
        "colab": {}
      },
      "source": [
        "import pandas as pd\n"
      ],
      "execution_count": 0,
      "outputs": []
    },
    {
      "cell_type": "code",
      "metadata": {
        "id": "Qnv29utNJzky",
        "colab_type": "code",
        "colab": {
          "base_uri": "https://localhost:8080/",
          "height": 190
        },
        "outputId": "e6bed2da-fc75-43b5-9916-ad54f5e41602"
      },
      "source": [
        "# First import the data set and rename the columns\n",
        "df = pd.read_table('/content/SMSSpamCollection', sep='\\t', names=['label','sms'])\n",
        "# Lets see the first 5 rows\n",
        "df.head()"
      ],
      "execution_count": 3,
      "outputs": [
        {
          "output_type": "execute_result",
          "data": {
            "text/html": [
              "<div>\n",
              "<style scoped>\n",
              "    .dataframe tbody tr th:only-of-type {\n",
              "        vertical-align: middle;\n",
              "    }\n",
              "\n",
              "    .dataframe tbody tr th {\n",
              "        vertical-align: top;\n",
              "    }\n",
              "\n",
              "    .dataframe thead th {\n",
              "        text-align: right;\n",
              "    }\n",
              "</style>\n",
              "<table border=\"1\" class=\"dataframe\">\n",
              "  <thead>\n",
              "    <tr style=\"text-align: right;\">\n",
              "      <th></th>\n",
              "      <th>label</th>\n",
              "      <th>sms</th>\n",
              "    </tr>\n",
              "  </thead>\n",
              "  <tbody>\n",
              "    <tr>\n",
              "      <th>0</th>\n",
              "      <td>ham</td>\n",
              "      <td>Go until jurong point, crazy.. Available only ...</td>\n",
              "    </tr>\n",
              "    <tr>\n",
              "      <th>1</th>\n",
              "      <td>ham</td>\n",
              "      <td>Ok lar... Joking wif u oni...</td>\n",
              "    </tr>\n",
              "    <tr>\n",
              "      <th>2</th>\n",
              "      <td>spam</td>\n",
              "      <td>Free entry in 2 a wkly comp to win FA Cup fina...</td>\n",
              "    </tr>\n",
              "    <tr>\n",
              "      <th>3</th>\n",
              "      <td>ham</td>\n",
              "      <td>U dun say so early hor... U c already then say...</td>\n",
              "    </tr>\n",
              "    <tr>\n",
              "      <th>4</th>\n",
              "      <td>ham</td>\n",
              "      <td>Nah I don't think he goes to usf, he lives aro...</td>\n",
              "    </tr>\n",
              "  </tbody>\n",
              "</table>\n",
              "</div>"
            ],
            "text/plain": [
              "  label                                                sms\n",
              "0   ham  Go until jurong point, crazy.. Available only ...\n",
              "1   ham                      Ok lar... Joking wif u oni...\n",
              "2  spam  Free entry in 2 a wkly comp to win FA Cup fina...\n",
              "3   ham  U dun say so early hor... U c already then say...\n",
              "4   ham  Nah I don't think he goes to usf, he lives aro..."
            ]
          },
          "metadata": {
            "tags": []
          },
          "execution_count": 3
        }
      ]
    },
    {
      "cell_type": "markdown",
      "metadata": {
        "id": "QAEW0PmDLSgA",
        "colab_type": "text"
      },
      "source": [
        "### Data Preprocessing\n",
        "Since ```scikit-learn``` can only have numerical values as inputs\n",
        "\n",
        "Lets turn  our labels to binary variables. \n",
        "i.e. **0** to represent **‘ham’** and **1** to represent **‘spam’**"
      ]
    },
    {
      "cell_type": "code",
      "metadata": {
        "id": "YSUY072VMCON",
        "colab_type": "code",
        "colab": {}
      },
      "source": [
        "df['label'] = df.label.map({'ham':0, 'spam':1})\n"
      ],
      "execution_count": 0,
      "outputs": []
    },
    {
      "cell_type": "markdown",
      "metadata": {
        "id": "Hl64Tr31Mvf3",
        "colab_type": "text"
      },
      "source": [
        "### Now lets split the dataset in Training and Testing Sets\n",
        "\n",
        "* X_train is the training data for the 'sms' column\n",
        "* y_train is the training data for the 'label' column\n",
        "* X_test is the testing data for the 'sms' column.\n",
        "* y_test is the testing data for the 'label' column "
      ]
    },
    {
      "cell_type": "code",
      "metadata": {
        "id": "GYbyEeu_M2tM",
        "colab_type": "code",
        "colab": {
          "base_uri": "https://localhost:8080/",
          "height": 67
        },
        "outputId": "1e382d3a-f3d2-466a-d6c7-6b818e6cf997"
      },
      "source": [
        "from sklearn.model_selection import train_test_split\n",
        "X_train, X_test, y_train, y_test = train_test_split(df['sms'], df['label'], random_state=1)\n",
        "print('Number of rows in the total set: {}'.format(df.shape[0]))\n",
        "print('Number of rows in the training set: {}'.format(X_train.shape[0]))\n",
        "print('Number of rows in the test set: {}'.format(X_test.shape[0]))"
      ],
      "execution_count": 15,
      "outputs": [
        {
          "output_type": "stream",
          "text": [
            "Number of rows in the total set: 5572\n",
            "Number of rows in the training set: 4179\n",
            "Number of rows in the test set: 1393\n"
          ],
          "name": "stdout"
        }
      ]
    },
    {
      "cell_type": "markdown",
      "metadata": {
        "id": "c1p2dvWzN9Re",
        "colab_type": "text"
      },
      "source": [
        "### Now we apply Bag of Words(BoW) to our datasets "
      ]
    },
    {
      "cell_type": "code",
      "metadata": {
        "id": "olyvWrKpM9zY",
        "colab_type": "code",
        "colab": {}
      },
      "source": [
        "from sklearn.feature_extraction.text import CountVectorizer\n",
        "# Instantiate the CountVectorizer method\n",
        "count_vector = CountVectorizer()\n",
        "# Fit the training data and then return the matrix\n",
        "training_data = count_vector.fit_transform(X_train)\n",
        "# Transform testing data and return the matrix. \n",
        "testing_data = count_vector.transform(X_test)"
      ],
      "execution_count": 0,
      "outputs": []
    },
    {
      "cell_type": "markdown",
      "metadata": {
        "id": "HqMJzYCgOyY6",
        "colab_type": "text"
      },
      "source": [
        "### Using Multinomial Naive Bayes to train our model"
      ]
    },
    {
      "cell_type": "code",
      "metadata": {
        "id": "2u4ImEJSOnp6",
        "colab_type": "code",
        "colab": {}
      },
      "source": [
        "from sklearn.naive_bayes import MultinomialNB\n",
        "naive_bayes = MultinomialNB()\n",
        "naive_bayes.fit(training_data, y_train)\n",
        "predictions = naive_bayes.predict(testing_data)"
      ],
      "execution_count": 0,
      "outputs": []
    },
    {
      "cell_type": "markdown",
      "metadata": {
        "id": "1ljfDK7xPKs0",
        "colab_type": "text"
      },
      "source": [
        "### Model Evaluation\n",
        "\n",
        "\n",
        "\n",
        "*   Accuracy: Measures how often the classifier makes the correct prediction. It’s the ratio of the number of correct predictions to the total number of predictions (the number of test data points)\n",
        "\n",
        "*   Precision: Tells us what proportion of messages we classified as spam, actually were spam. It is a ratio of true positives(words classified as spam, and which are actually spam) to all positives(all words classified as spam, irrespective of whether that was the correct classification).\n",
        "\n",
        "*   Recall(sensitivity): Tells us what proportion of messages that actually were spam were classified by us as spam. It is a ratio of true positives(words classified as spam, and which are actually spam) to all the words that were actually spam.\n",
        "\n",
        "*  F1 score: It is weighted average of the precision and recall scores. This score can range from 0 to 1, with 1 being the best possible F1 score\n",
        "\n",
        "\n",
        "\n",
        "\n"
      ]
    },
    {
      "cell_type": "code",
      "metadata": {
        "id": "4MYG8SYuO_Ua",
        "colab_type": "code",
        "colab": {
          "base_uri": "https://localhost:8080/",
          "height": 85
        },
        "outputId": "4f3406ec-f83e-422d-df62-59ddd56fa0cb"
      },
      "source": [
        "from sklearn.metrics import accuracy_score, precision_score, recall_score, f1_score\n",
        "print('Accuracy score: ', format(accuracy_score(y_test, predictions)))\n",
        "print('Precision score: ', format(precision_score(y_test, predictions)))\n",
        "print('Recall score: ', format(recall_score(y_test, predictions)))\n",
        "print('F1 score: ', format(f1_score(y_test, predictions)))"
      ],
      "execution_count": 14,
      "outputs": [
        {
          "output_type": "stream",
          "text": [
            "Accuracy score:  0.9885139985642498\n",
            "Precision score:  0.9720670391061452\n",
            "Recall score:  0.9405405405405406\n",
            "F1 score:  0.9560439560439562\n"
          ],
          "name": "stdout"
        }
      ]
    },
    {
      "cell_type": "markdown",
      "metadata": {
        "id": "-k226DvYQLHa",
        "colab_type": "text"
      },
      "source": [
        "For all 4 metrics used above the values can range from 0 to 1\n",
        "\n",
        "Having a score as close to 1 as possible is a good indicator of how well our model is doing"
      ]
    },
    {
      "cell_type": "code",
      "metadata": {
        "id": "2Ok3oh3DPQgL",
        "colab_type": "code",
        "colab": {}
      },
      "source": [
        ""
      ],
      "execution_count": 0,
      "outputs": []
    }
  ]
}
